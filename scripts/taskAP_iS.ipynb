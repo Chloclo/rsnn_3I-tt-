{
 "cells": [
  {
   "cell_type": "code",
   "execution_count": null,
   "id": "3e6a5107-a61e-4250-b542-28f872d42397",
   "metadata": {},
   "outputs": [],
   "source": [
    "'''Sine Wave Task with:\n",
    "Amplitude (20-80), Period (40-100)\n",
    "I: SST\n",
    "'''\n",
    "import os\n",
    "import torch\n",
    "from torch.utils.data import Dataset, DataLoader"
   ]
  },
  {
   "cell_type": "code",
   "execution_count": null,
   "id": "d4023a8c",
   "metadata": {},
   "outputs": [],
   "source": [
    "from data.input.Sine_Wave_Dataset import SW_AP\n",
    "from models.Custom_Loss import CustomLoss_task\n",
    "from models.rsnn import RSNN_iS\n",
    "from models import train1"
   ]
  },
  {
   "cell_type": "code",
   "execution_count": null,
   "id": "1100b664-0479-4c43-9745-f097ed04d931",
   "metadata": {},
   "outputs": [
    {
     "name": "stdout",
     "output_type": "stream",
     "text": [
      "0.7484\n",
      "loss: tensor(1475.4513, grad_fn=<MseLossBackward0>)\n",
      "loss: tensor(1393.3691, grad_fn=<MseLossBackward0>)\n",
      "loss: tensor(1343.9384, grad_fn=<MseLossBackward0>)\n",
      "loss: tensor(1277.1995, grad_fn=<MseLossBackward0>)\n",
      "loss: tensor(1108.4375, grad_fn=<MseLossBackward0>)\n",
      "loss: tensor(1327.2280, grad_fn=<MseLossBackward0>)\n",
      "loss: tensor(1072.3759, grad_fn=<MseLossBackward0>)\n",
      "loss: tensor(1375.0974, grad_fn=<MseLossBackward0>)\n",
      "loss: tensor(1234.7283, grad_fn=<MseLossBackward0>)\n",
      "loss: tensor(1294.6259, grad_fn=<MseLossBackward0>)\n",
      "loss: tensor(1292.2057, grad_fn=<MseLossBackward0>)\n",
      "loss: tensor(1229.7083, grad_fn=<MseLossBackward0>)\n",
      "loss: tensor(1638.5955, grad_fn=<MseLossBackward0>)\n",
      "loss: tensor(1404.4852, grad_fn=<MseLossBackward0>)\n",
      "loss: tensor(1382.3986, grad_fn=<MseLossBackward0>)\n",
      "loss: tensor(872.9666, grad_fn=<MseLossBackward0>)\n",
      "loss: tensor(1264.3813, grad_fn=<MseLossBackward0>)\n",
      "loss: tensor(1348.7688, grad_fn=<MseLossBackward0>)\n",
      "loss: tensor(1516.1217, grad_fn=<MseLossBackward0>)\n",
      "loss: tensor(1155.8387, grad_fn=<MseLossBackward0>)\n",
      "loss: tensor(1316.9131, grad_fn=<MseLossBackward0>)\n",
      "loss: tensor(1184.1594, grad_fn=<MseLossBackward0>)\n",
      "loss: tensor(1420.5265, grad_fn=<MseLossBackward0>)\n",
      "loss: tensor(775.7311, grad_fn=<MseLossBackward0>)\n",
      "loss: tensor(1131.5739, grad_fn=<MseLossBackward0>)\n",
      "loss: tensor(1136.9712, grad_fn=<MseLossBackward0>)\n",
      "loss: tensor(1104.9016, grad_fn=<MseLossBackward0>)\n",
      "loss: tensor(1267.2832, grad_fn=<MseLossBackward0>)\n",
      "loss: tensor(952.9974, grad_fn=<MseLossBackward0>)\n",
      "loss: tensor(1237.5642, grad_fn=<MseLossBackward0>)\n",
      "loss: tensor(1475.3960, grad_fn=<MseLossBackward0>)\n",
      "loss: tensor(1329.9622, grad_fn=<MseLossBackward0>)\n",
      "loss: tensor(1166.4874, grad_fn=<MseLossBackward0>)\n",
      "loss: tensor(1032.5900, grad_fn=<MseLossBackward0>)\n",
      "loss: tensor(1234.2344, grad_fn=<MseLossBackward0>)\n",
      "loss: tensor(1220.1229, grad_fn=<MseLossBackward0>)\n",
      "loss: tensor(1161.2664, grad_fn=<MseLossBackward0>)\n",
      "loss: tensor(1162.2219, grad_fn=<MseLossBackward0>)\n",
      "loss: tensor(1135.2914, grad_fn=<MseLossBackward0>)\n",
      "loss: tensor(1248.7037, grad_fn=<MseLossBackward0>)\n",
      "loss: tensor(912.8229, grad_fn=<MseLossBackward0>)\n",
      "loss: tensor(1037.9469, grad_fn=<MseLossBackward0>)\n"
     ]
    }
   ],
   "source": [
    "# SineWave1 creates the dataset with input (Changing Amplitude, Changing Period, Clock-like Input)\n",
    "# Output (Sine wave)\n",
    "datasetAP = SW_AP.SW_AP('train_data/train_data_sine_hpc.csv')\n",
    "\n",
    "num_epochs = 1000\n",
    "num_timesteps = 300\n",
    "\n",
    "for job in range(10,15):\n",
    "    # Set the random seed for Python's random module\n",
    "    torch.manual_seed(job)\n",
    "    \n",
    "    dataloaderAP = DataLoader(datasetAP, batch_size=25, shuffle=True)\n",
    "    \n",
    "    loss_task = CustomLoss_task.CustomLoss_task()\n",
    "    net_iS = RSNN_iS.RSNN_iS()\n",
    "    optimizer_iS = torch.optim.Adam(net_iS.parameters(),lr=0.02)\n",
    "\n",
    "    train1.train_model16([job, net_iS, optimizer_iS,dataloaderAP,loss_task, \"AP\", \"S\", num_epochs, num_timesteps])\n"
   ]
  },
  {
   "cell_type": "code",
   "execution_count": null,
   "id": "fc7b799b-2ecd-47be-bafc-0dec35397d12",
   "metadata": {},
   "outputs": [],
   "source": []
  }
 ],
 "metadata": {
  "kernelspec": {
   "display_name": "Python (rsnn_env)",
   "language": "python",
   "name": "rsnn_env"
  },
  "language_info": {
   "codemirror_mode": {
    "name": "ipython",
    "version": 3
   },
   "file_extension": ".py",
   "mimetype": "text/x-python",
   "name": "python",
   "nbconvert_exporter": "python",
   "pygments_lexer": "ipython3",
   "version": "3.8.19"
  }
 },
 "nbformat": 4,
 "nbformat_minor": 5
}
