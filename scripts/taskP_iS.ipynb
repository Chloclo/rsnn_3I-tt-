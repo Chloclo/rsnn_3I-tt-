{
 "cells": [
  {
   "cell_type": "code",
   "execution_count": null,
   "id": "d29f797c-ea41-48fc-af44-3b3945cdf1b9",
   "metadata": {},
   "outputs": [],
   "source": [
    "import os\n",
    "import torch\n",
    "from torch.utils.data import Dataset, DataLoader"
   ]
  },
  {
   "cell_type": "code",
   "execution_count": null,
   "id": "324c744f",
   "metadata": {},
   "outputs": [],
   "source": [
    "from data.input.Sine_Wave_Dataset import SW_P\n",
    "from models.Custom_Loss import CustomLoss_task\n",
    "from models.rsnn import RSNN_iS\n",
    "from models import train1"
   ]
  },
  {
   "cell_type": "code",
   "execution_count": null,
   "id": "70c05888-4318-47f6-9cc5-4940bf3eaaad",
   "metadata": {},
   "outputs": [
    {
     "name": "stdout",
     "output_type": "stream",
     "text": [
      "0.7513\n",
      "loss: tensor(813.3811, grad_fn=<MseLossBackward0>)\n",
      "loss: tensor(804.6182, grad_fn=<MseLossBackward0>)\n",
      "loss: tensor(804.9321, grad_fn=<MseLossBackward0>)\n",
      "loss: tensor(795.3779, grad_fn=<MseLossBackward0>)\n",
      "loss: tensor(789.9129, grad_fn=<MseLossBackward0>)\n",
      "loss: tensor(789.7824, grad_fn=<MseLossBackward0>)\n",
      "loss: tensor(779.3043, grad_fn=<MseLossBackward0>)\n",
      "loss: tensor(771.3339, grad_fn=<MseLossBackward0>)\n",
      "loss: tensor(780.6125, grad_fn=<MseLossBackward0>)\n",
      "loss: tensor(777.4796, grad_fn=<MseLossBackward0>)\n",
      "loss: tensor(767.4667, grad_fn=<MseLossBackward0>)\n",
      "loss: tensor(762.8477, grad_fn=<MseLossBackward0>)\n",
      "loss: tensor(755.4380, grad_fn=<MseLossBackward0>)\n",
      "loss: tensor(743.1676, grad_fn=<MseLossBackward0>)\n",
      "loss: tensor(737.7062, grad_fn=<MseLossBackward0>)\n",
      "loss: tensor(733.6830, grad_fn=<MseLossBackward0>)\n",
      "loss: tensor(722.8309, grad_fn=<MseLossBackward0>)\n",
      "loss: tensor(720.4051, grad_fn=<MseLossBackward0>)\n",
      "loss: tensor(712.7746, grad_fn=<MseLossBackward0>)\n",
      "loss: tensor(704.1143, grad_fn=<MseLossBackward0>)\n",
      "loss: tensor(705.1388, grad_fn=<MseLossBackward0>)\n",
      "loss: tensor(690.9753, grad_fn=<MseLossBackward0>)\n",
      "loss: tensor(683.3542, grad_fn=<MseLossBackward0>)\n",
      "loss: tensor(682.1078, grad_fn=<MseLossBackward0>)\n",
      "loss: tensor(679.6134, grad_fn=<MseLossBackward0>)\n",
      "loss: tensor(664.8289, grad_fn=<MseLossBackward0>)\n",
      "loss: tensor(657.6146, grad_fn=<MseLossBackward0>)\n",
      "loss: tensor(648.6085, grad_fn=<MseLossBackward0>)\n",
      "loss: tensor(639.6028, grad_fn=<MseLossBackward0>)\n",
      "loss: tensor(642.4332, grad_fn=<MseLossBackward0>)\n",
      "loss: tensor(633.4966, grad_fn=<MseLossBackward0>)\n",
      "loss: tensor(625.7311, grad_fn=<MseLossBackward0>)\n",
      "loss: tensor(626.7643, grad_fn=<MseLossBackward0>)\n",
      "loss: tensor(620.6534, grad_fn=<MseLossBackward0>)\n",
      "loss: tensor(610.0483, grad_fn=<MseLossBackward0>)\n",
      "loss: tensor(601.6286, grad_fn=<MseLossBackward0>)\n",
      "loss: tensor(595.3805, grad_fn=<MseLossBackward0>)\n"
     ]
    }
   ],
   "source": [
    "'''Sine Wave Task with:\n",
    "Amplitude=40, Period (40-100)\n",
    "I: SST\n",
    "'''\n",
    "datasetP = SW_P.SW_P('train_data/train_data_const_amp.csv')\n",
    "num_epochs = 1000\n",
    "num_timesteps = 300\n",
    "jobs = range(10,15)\n",
    "for job in jobs:\n",
    "    # Set the random seed for Python's random module\n",
    "    torch.manual_seed(job)\n",
    "    \n",
    "    dataloaderP = DataLoader(datasetP, batch_size=25, shuffle=True)\n",
    "    loss_task = CustomLoss_task.CustomLoss_task()\n",
    "\n",
    "    net_iS = RSNN_iS.RSNN_iS()\n",
    "    optimizer_iS = torch.optim.Adam(net_iS.parameters(),lr=0.02)\n",
    "\n",
    "    train1.train_model16([job, net_iS, optimizer_iS,dataloaderP, loss_task, \"P\", \"S\", num_epochs, num_timesteps])\n"
   ]
  },
  {
   "cell_type": "code",
   "execution_count": null,
   "id": "9ca62446-c851-4af3-a1e7-7640cc882b3d",
   "metadata": {},
   "outputs": [],
   "source": []
  }
 ],
 "metadata": {
  "kernelspec": {
   "display_name": "Python (rsnn_env)",
   "language": "python",
   "name": "rsnn_env"
  },
  "language_info": {
   "codemirror_mode": {
    "name": "ipython",
    "version": 3
   },
   "file_extension": ".py",
   "mimetype": "text/x-python",
   "name": "python",
   "nbconvert_exporter": "python",
   "pygments_lexer": "ipython3",
   "version": "3.8.19"
  }
 },
 "nbformat": 4,
 "nbformat_minor": 5
}
