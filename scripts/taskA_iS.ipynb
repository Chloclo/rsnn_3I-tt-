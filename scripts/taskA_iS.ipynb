{
 "cells": [
  {
   "cell_type": "code",
   "execution_count": null,
   "id": "d29f797c-ea41-48fc-af44-3b3945cdf1b9",
   "metadata": {},
   "outputs": [],
   "source": [
    "import os\n",
    "import torch\n",
    "from torch.utils.data import Dataset, DataLoader"
   ]
  },
  {
   "cell_type": "code",
   "execution_count": null,
   "id": "417b489f",
   "metadata": {},
   "outputs": [],
   "source": [
    "from data.input.Sine_Wave_Dataset import SW_A\n",
    "from models.Custom_Loss import CustomLoss_task\n",
    "from models.rsnn import RSNN_iS\n",
    "from models import train1"
   ]
  },
  {
   "cell_type": "code",
   "execution_count": null,
   "id": "70c05888-4318-47f6-9cc5-4940bf3eaaad",
   "metadata": {},
   "outputs": [
    {
     "name": "stdout",
     "output_type": "stream",
     "text": [
      "0.7506\n",
      "loss: tensor(1174.0349, grad_fn=<MseLossBackward0>)\n",
      "loss: tensor(1220.5537, grad_fn=<MseLossBackward0>)\n",
      "loss: tensor(1399.2968, grad_fn=<MseLossBackward0>)\n",
      "loss: tensor(1235.6287, grad_fn=<MseLossBackward0>)\n",
      "loss: tensor(1214.2491, grad_fn=<MseLossBackward0>)\n",
      "loss: tensor(1549.6230, grad_fn=<MseLossBackward0>)\n",
      "loss: tensor(1480.2240, grad_fn=<MseLossBackward0>)\n",
      "loss: tensor(1479.9321, grad_fn=<MseLossBackward0>)\n",
      "loss: tensor(1257.3298, grad_fn=<MseLossBackward0>)\n",
      "loss: tensor(1057.1494, grad_fn=<MseLossBackward0>)\n",
      "loss: tensor(1467.5681, grad_fn=<MseLossBackward0>)\n",
      "loss: tensor(1524.3947, grad_fn=<MseLossBackward0>)\n",
      "loss: tensor(1597.1661, grad_fn=<MseLossBackward0>)\n",
      "loss: tensor(1410.6840, grad_fn=<MseLossBackward0>)\n",
      "loss: tensor(1364.7510, grad_fn=<MseLossBackward0>)\n",
      "loss: tensor(1201.7263, grad_fn=<MseLossBackward0>)\n",
      "loss: tensor(1181.4384, grad_fn=<MseLossBackward0>)\n",
      "loss: tensor(1435.9629, grad_fn=<MseLossBackward0>)\n",
      "loss: tensor(1263.2983, grad_fn=<MseLossBackward0>)\n",
      "loss: tensor(1056.3711, grad_fn=<MseLossBackward0>)\n",
      "loss: tensor(1536.7604, grad_fn=<MseLossBackward0>)\n",
      "loss: tensor(1173.5428, grad_fn=<MseLossBackward0>)\n",
      "loss: tensor(1427.2302, grad_fn=<MseLossBackward0>)\n",
      "loss: tensor(985.3390, grad_fn=<MseLossBackward0>)\n",
      "loss: tensor(1389.6277, grad_fn=<MseLossBackward0>)\n",
      "loss: tensor(1024.2236, grad_fn=<MseLossBackward0>)\n",
      "loss: tensor(1243.4880, grad_fn=<MseLossBackward0>)\n",
      "loss: tensor(1045.6827, grad_fn=<MseLossBackward0>)\n",
      "loss: tensor(1131.7906, grad_fn=<MseLossBackward0>)\n",
      "loss: tensor(1306.8645, grad_fn=<MseLossBackward0>)\n",
      "loss: tensor(1321.4941, grad_fn=<MseLossBackward0>)\n",
      "loss: tensor(1095.5054, grad_fn=<MseLossBackward0>)\n",
      "loss: tensor(1025.1562, grad_fn=<MseLossBackward0>)\n",
      "loss: tensor(1016.7335, grad_fn=<MseLossBackward0>)\n",
      "loss: tensor(1177.6969, grad_fn=<MseLossBackward0>)\n",
      "loss: tensor(1125.0321, grad_fn=<MseLossBackward0>)\n",
      "loss: tensor(1052.0920, grad_fn=<MseLossBackward0>)\n",
      "loss: tensor(1446.1985, grad_fn=<MseLossBackward0>)\n",
      "loss: tensor(1228.1749, grad_fn=<MseLossBackward0>)\n",
      "loss: tensor(1150.7224, grad_fn=<MseLossBackward0>)\n"
     ]
    }
   ],
   "source": [
    "'''Sine Wave Task with:\n",
    "Amplitude (20-80), P = 80\n",
    "I: SST\n",
    "'''\n",
    "num_epochs = 1000\n",
    "num_timesteps = 300\n",
    "\n",
    "datasetA = SW_A.SW_A('train_data/train_data_const_period.csv')\n",
    "\n",
    "for job in range(10,15):\n",
    "    # Set the random seed for Python's random module\n",
    "    torch.manual_seed(job)\n",
    "    \n",
    "    dataloaderA = DataLoader(datasetA, batch_size=25, shuffle=True)\n",
    "    loss_task = CustomLoss_task.CustomLoss_task()\n",
    "\n",
    "    net_iS = RSNN_iS.RSNN_iS()\n",
    "    optimizer_iS = torch.optim.Adam(net_iS.parameters(),lr=0.02)\n",
    "\n",
    "    train1.train_model16([job, net_iS, optimizer_iS,dataloaderA, loss_task, \"A\", \"S\", num_epochs, num_timesteps])\n",
    "    random_seed += 1"
   ]
  },
  {
   "cell_type": "code",
   "execution_count": null,
   "id": "454a1b73-fafb-43fc-b3dc-23b8ea475635",
   "metadata": {},
   "outputs": [],
   "source": []
  }
 ],
 "metadata": {
  "kernelspec": {
   "display_name": "Python (rsnn_env)",
   "language": "python",
   "name": "rsnn_env"
  },
  "language_info": {
   "codemirror_mode": {
    "name": "ipython",
    "version": 3
   },
   "file_extension": ".py",
   "mimetype": "text/x-python",
   "name": "python",
   "nbconvert_exporter": "python",
   "pygments_lexer": "ipython3",
   "version": "3.8.19"
  }
 },
 "nbformat": 4,
 "nbformat_minor": 5
}
