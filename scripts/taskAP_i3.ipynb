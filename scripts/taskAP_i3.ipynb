{
 "cells": [
  {
   "cell_type": "code",
   "execution_count": 1,
   "id": "3e6a5107-a61e-4250-b542-28f872d42397",
   "metadata": {},
   "outputs": [],
   "source": [
    "'''Sine Wave Task with:\n",
    "Amplitude (20-80), Period (40-100)\n",
    "I: PV, SST, 5HT\n",
    "'''\n",
    "\n",
    "import os\n",
    "import torch\n",
    "import snntorch as snn\n",
    "import matplotlib.pyplot as plt\n",
    "from snntorch import surrogate\n",
    "from snntorch import spikegen\n",
    "from snntorch import functional\n",
    "from snntorch import LIF\n",
    "from snntorch import spikeplot as splt\n",
    "import pandas as pd\n",
    "import numpy as np\n",
    "from torch.utils.data import Dataset, DataLoader\n",
    "import math\n",
    "from warnings import warn\n",
    "import torch.nn as nn\n",
    "import csv"
   ]
  },
  {
   "cell_type": "code",
   "execution_count": null,
   "id": "1100b664-0479-4c43-9745-f097ed04d931",
   "metadata": {},
   "outputs": [
    {
     "name": "stdout",
     "output_type": "stream",
     "text": [
      "0.79795\n",
      "loss: tensor(1476.5016, grad_fn=<MseLossBackward0>)\n",
      "loss: tensor(1396.1892, grad_fn=<MseLossBackward0>)\n",
      "loss: tensor(1332.4427, grad_fn=<MseLossBackward0>)\n",
      "loss: tensor(1267.7865, grad_fn=<MseLossBackward0>)\n",
      "loss: tensor(1099.0647, grad_fn=<MseLossBackward0>)\n",
      "loss: tensor(1314.5122, grad_fn=<MseLossBackward0>)\n",
      "loss: tensor(1053.1718, grad_fn=<MseLossBackward0>)\n",
      "loss: tensor(1355.0200, grad_fn=<MseLossBackward0>)\n",
      "loss: tensor(1213.6522, grad_fn=<MseLossBackward0>)\n",
      "loss: tensor(1277.4763, grad_fn=<MseLossBackward0>)\n",
      "loss: tensor(1268.8480, grad_fn=<MseLossBackward0>)\n"
     ]
    }
   ],
   "source": [
    "from classes.Sine_Wave_Dataset import SW_AP\n",
    "from classes.Custom_Loss import CustomLoss_task\n",
    "from classes import RSNN_i3_diff_connprob,train1\n",
    "\n",
    "datasetAP = SW_AP.SW_AP('train_data/train_data_sine_hpc.csv')\n",
    "\n",
    "num_epochs = 1000\n",
    "num_timesteps = 300\n",
    "    \n",
    "for job in range(10,15):\n",
    "    # Set the random seed for Python's random module\n",
    "    torch.manual_seed(job)\n",
    "    \n",
    "    dataloaderAP = DataLoader(datasetAP, batch_size=25, shuffle=True)\n",
    "    \n",
    "    loss_task = CustomLoss_task.CustomLoss_task()\n",
    "    net_i3 = RSNN_i3_diff_connprob.RSNN_i3()\n",
    "    optimizer_i3 = torch.optim.Adam(net_i3.parameters(),lr=0.02)\n",
    "\n",
    "    train1.train_model16([job, net_i3, optimizer_i3,dataloaderAP,loss_task, \"AP\", \"3\", num_epochs, num_timesteps])\n"
   ]
  },
  {
   "cell_type": "code",
   "execution_count": null,
   "id": "74bc1090-f27d-475b-8758-ee511fb157be",
   "metadata": {},
   "outputs": [],
   "source": []
  }
 ],
 "metadata": {
  "kernelspec": {
   "display_name": "Python (rsnn_env)",
   "language": "python",
   "name": "rsnn_env"
  },
  "language_info": {
   "codemirror_mode": {
    "name": "ipython",
    "version": 3
   },
   "file_extension": ".py",
   "mimetype": "text/x-python",
   "name": "python",
   "nbconvert_exporter": "python",
   "pygments_lexer": "ipython3",
   "version": "3.8.19"
  }
 },
 "nbformat": 4,
 "nbformat_minor": 5
}
