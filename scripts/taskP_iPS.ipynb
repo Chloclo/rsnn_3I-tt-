{
 "cells": [
  {
   "cell_type": "code",
   "execution_count": null,
   "id": "d29f797c-ea41-48fc-af44-3b3945cdf1b9",
   "metadata": {},
   "outputs": [],
   "source": [
    "import os\n",
    "import torch\n",
    "from torch.utils.data import Dataset, DataLoader"
   ]
  },
  {
   "cell_type": "code",
   "execution_count": null,
   "id": "0255d1e4",
   "metadata": {},
   "outputs": [],
   "source": [
    "from data.input.Sine_Wave_Dataset import SW_P\n",
    "from models.Custom_Loss import CustomLoss_task\n",
    "from models.rsnn import RSNN_iPS\n",
    "from models import train1"
   ]
  },
  {
   "cell_type": "code",
   "execution_count": null,
   "id": "70c05888-4318-47f6-9cc5-4940bf3eaaad",
   "metadata": {},
   "outputs": [
    {
     "name": "stdout",
     "output_type": "stream",
     "text": [
      "0.76495\n",
      "loss: tensor(806.9821, grad_fn=<MseLossBackward0>)\n",
      "loss: tensor(801.2728, grad_fn=<MseLossBackward0>)\n",
      "loss: tensor(800.4741, grad_fn=<MseLossBackward0>)\n",
      "loss: tensor(786.3352, grad_fn=<MseLossBackward0>)\n",
      "loss: tensor(781.6046, grad_fn=<MseLossBackward0>)\n",
      "loss: tensor(775.6453, grad_fn=<MseLossBackward0>)\n"
     ]
    }
   ],
   "source": [
    "'''Sine Wave Task with:\n",
    "Amplitude=40, Period (40-100)\n",
    "I: SST, PV\n",
    "'''\n",
    "datasetP = SW_P.SW_P('train_data/train_data_const_amp.csv')\n",
    "num_epochs = 1000\n",
    "num_timesteps = 300\n",
    "random_seed = 10\n",
    "\n",
    "for job in range(10,15):\n",
    "    # Set the random seed for Python's random module\n",
    "    torch.manual_seed(random_seed)\n",
    "    \n",
    "    dataloaderP = DataLoader(datasetP, batch_size=25, shuffle=True)\n",
    "    loss_task = CustomLoss_task.CustomLoss_task()\n",
    "\n",
    "    net_iPS = RSNN_iPS.RSNN_iPS()\n",
    "    optimizer_iPS = torch.optim.Adam(net_iPS.parameters(),lr=0.02)\n",
    "\n",
    "    train1.train_model16([job, net_iPS, optimizer_iPS,dataloaderP, loss_task, \"P\", \"PS\", num_epochs, num_timesteps])"
   ]
  },
  {
   "cell_type": "code",
   "execution_count": null,
   "id": "61e15290-eb67-4fde-90f9-d57c61a0875e",
   "metadata": {},
   "outputs": [],
   "source": []
  }
 ],
 "metadata": {
  "kernelspec": {
   "display_name": "Python (rsnn_env)",
   "language": "python",
   "name": "rsnn_env"
  },
  "language_info": {
   "codemirror_mode": {
    "name": "ipython",
    "version": 3
   },
   "file_extension": ".py",
   "mimetype": "text/x-python",
   "name": "python",
   "nbconvert_exporter": "python",
   "pygments_lexer": "ipython3",
   "version": "3.8.19"
  }
 },
 "nbformat": 4,
 "nbformat_minor": 5
}
