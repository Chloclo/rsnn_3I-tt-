{
 "cells": [
  {
   "cell_type": "code",
   "execution_count": 1,
   "id": "d29f797c-ea41-48fc-af44-3b3945cdf1b9",
   "metadata": {},
   "outputs": [],
   "source": [
    "import os\n",
    "\n",
    "import torch\n",
    "from torch.utils.data import Dataset, DataLoader\n",
    "import torch.nn as nn\n",
    "\n",
    "import snntorch as snn\n",
    "from snntorch import surrogate\n",
    "from snntorch import spikegen\n",
    "from snntorch import functional\n",
    "from snntorch import LIF\n",
    "from snntorch import spikeplot as splt\n",
    "\n",
    "import pandas as pd\n",
    "import numpy as np\n",
    "import matplotlib.pyplot as plt\n",
    "import math\n",
    "from warnings import warn\n",
    "import csv\n",
    "\n",
    "from classes.Sine_Wave_Dataset import SW_SC\n",
    "from classes.Custom_Loss import CustomLoss_task\n",
    "from classes import RSNN_iPS,train1"
   ]
  },
  {
   "cell_type": "code",
   "execution_count": null,
   "id": "70c05888-4318-47f6-9cc5-4940bf3eaaad",
   "metadata": {},
   "outputs": [
    {
     "name": "stdout",
     "output_type": "stream",
     "text": [
      "0.766225\n",
      "loss: tensor(1409.2802, grad_fn=<MseLossBackward0>)\n",
      "loss: tensor(1069.3385, grad_fn=<MseLossBackward0>)\n"
     ]
    }
   ],
   "source": [
    "'''Sine Wave Task with:\n",
    "Synchronization Continuation\n",
    "Amplitude=(20-100), Period (40-100)\n",
    "I: PV, SST\n",
    "'''\n",
    "datasetSC = SW_SC.SW_SC('train_data/train_data_sine_hpc.csv')\n",
    "num_epochs = 1000\n",
    "num_timesteps = 300\n",
    "\n",
    "jobs = [4,9]\n",
    "for job in jobs:\n",
    "    # Set the random seed for Python's random module\n",
    "    torch.manual_seed(job)\n",
    "    \n",
    "    dataloaderSC = DataLoader(datasetSC, batch_size=25, shuffle=True)\n",
    "    loss_task = CustomLoss_task.CustomLoss_task()\n",
    "\n",
    "    net_iPS = RSNN_iPS.RSNN_iPS()\n",
    "    optimizer_iPS = torch.optim.Adam(net_iPS.parameters(),lr=0.02)\n",
    "\n",
    "    train1.train_model16([job, net_iPS, optimizer_iPS,dataloaderSC, loss_task, \"SC\", \"PS\", num_epochs, num_timesteps])\n",
    "    # random_seed += 1"
   ]
  },
  {
   "cell_type": "code",
   "execution_count": null,
   "id": "ba29a3a1-5cc9-4391-81a5-4a3dced45ade",
   "metadata": {},
   "outputs": [],
   "source": []
  }
 ],
 "metadata": {
  "kernelspec": {
   "display_name": "Python (rsnn_env)",
   "language": "python",
   "name": "rsnn_env"
  },
  "language_info": {
   "codemirror_mode": {
    "name": "ipython",
    "version": 3
   },
   "file_extension": ".py",
   "mimetype": "text/x-python",
   "name": "python",
   "nbconvert_exporter": "python",
   "pygments_lexer": "ipython3",
   "version": "3.8.19"
  }
 },
 "nbformat": 4,
 "nbformat_minor": 5
}
