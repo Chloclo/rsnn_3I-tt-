{
 "cells": [
  {
   "cell_type": "code",
   "execution_count": null,
   "id": "d29f797c-ea41-48fc-af44-3b3945cdf1b9",
   "metadata": {},
   "outputs": [],
   "source": [
    "import os\n",
    "import torch\n",
    "from torch.utils.data import Dataset, DataLoader"
   ]
  },
  {
   "cell_type": "code",
   "execution_count": null,
   "id": "8f47cb07",
   "metadata": {},
   "outputs": [],
   "source": [
    "from data.input.Sine_Wave_Dataset import SW_P\n",
    "from models.Custom_Loss import CustomLoss_task\n",
    "from models.rsnn import RSNN_iP\n",
    "from models import train1"
   ]
  },
  {
   "cell_type": "code",
   "execution_count": null,
   "id": "70c05888-4318-47f6-9cc5-4940bf3eaaad",
   "metadata": {},
   "outputs": [
    {
     "name": "stdout",
     "output_type": "stream",
     "text": [
      "0.7532\n",
      "loss: tensor(810.1669, grad_fn=<MseLossBackward0>)\n",
      "loss: tensor(801.3179, grad_fn=<MseLossBackward0>)\n",
      "loss: tensor(806.8868, grad_fn=<MseLossBackward0>)\n",
      "loss: tensor(804.0973, grad_fn=<MseLossBackward0>)\n",
      "loss: tensor(790.6789, grad_fn=<MseLossBackward0>)\n",
      "loss: tensor(786.7888, grad_fn=<MseLossBackward0>)\n"
     ]
    }
   ],
   "source": [
    "'''Sine Wave Task with:\n",
    "Amplitude=40, Period (40-100)\n",
    "I: PV\n",
    "'''\n",
    "datasetP = SW_P.SW_P('train_data/train_data_const_amp.csv')\n",
    "num_epochs = 1000\n",
    "num_timesteps = 300\n",
    "\n",
    "for job in range(10,15):\n",
    "    # Set the random seed for Python's random module\n",
    "    torch.manual_seed(job)\n",
    "    \n",
    "    dataloaderP = DataLoader(datasetP, batch_size=25, shuffle=True)\n",
    "    loss_task = CustomLoss_task.CustomLoss_task()\n",
    "\n",
    "    net_iP = RSNN_iP.RSNN_iP()\n",
    "    optimizer_iP = torch.optim.Adam(net_iP.parameters(),lr=0.02)\n",
    "\n",
    "    train1.train_model16([job, net_iP, optimizer_iP,dataloaderP, loss_task, \"P\", \"P\", num_epochs, num_timesteps])\n"
   ]
  },
  {
   "cell_type": "code",
   "execution_count": null,
   "id": "a70ca8fe-d45a-4ac7-b8c0-9f9ab5e79119",
   "metadata": {},
   "outputs": [],
   "source": []
  }
 ],
 "metadata": {
  "kernelspec": {
   "display_name": "Python (rsnn_env)",
   "language": "python",
   "name": "rsnn_env"
  },
  "language_info": {
   "codemirror_mode": {
    "name": "ipython",
    "version": 3
   },
   "file_extension": ".py",
   "mimetype": "text/x-python",
   "name": "python",
   "nbconvert_exporter": "python",
   "pygments_lexer": "ipython3",
   "version": "3.8.19"
  }
 },
 "nbformat": 4,
 "nbformat_minor": 5
}
