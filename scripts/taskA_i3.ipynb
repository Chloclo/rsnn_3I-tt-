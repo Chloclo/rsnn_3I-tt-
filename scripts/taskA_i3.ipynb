{
 "cells": [
  {
   "cell_type": "code",
   "execution_count": null,
   "id": "d29f797c-ea41-48fc-af44-3b3945cdf1b9",
   "metadata": {},
   "outputs": [],
   "source": [
    "import os\n",
    "import torch\n",
    "from torch.utils.data import Dataset, DataLoader"
   ]
  },
  {
   "cell_type": "code",
   "execution_count": null,
   "id": "70c05888-4318-47f6-9cc5-4940bf3eaaad",
   "metadata": {},
   "outputs": [
    {
     "name": "stdout",
     "output_type": "stream",
     "text": [
      "0.79965\n",
      "loss: tensor(1176.7250, grad_fn=<MseLossBackward0>)\n",
      "loss: tensor(1226.2368, grad_fn=<MseLossBackward0>)\n",
      "loss: tensor(1384.2482, grad_fn=<MseLossBackward0>)\n",
      "loss: tensor(1226.0581, grad_fn=<MseLossBackward0>)\n",
      "loss: tensor(1191.1195, grad_fn=<MseLossBackward0>)\n",
      "loss: tensor(1538.4266, grad_fn=<MseLossBackward0>)\n",
      "loss: tensor(1455.9738, grad_fn=<MseLossBackward0>)\n"
     ]
    }
   ],
   "source": [
    "from data.input.Sine_Wave_Dataset import SW_A\n",
    "from models.Custom_Loss import CustomLoss_task\n",
    "from models.rsnn import RSNN_i3\n",
    "from models import train1\n",
    "\n",
    "'''Sine Wave Task with:\n",
    "Amplitude (20-80), Period=80\n",
    "I: PV, SST, 5HT\n",
    "'''\n",
    "\n",
    "datasetA = SW_A.SW_A('train_data/train_data_const_period.csv')\n",
    "\n",
    "num_epochs = 1000\n",
    "num_timesteps = 300\n",
    "\n",
    "\n",
    "for job in range(10,15):\n",
    "    # Set the random seed for Python's random module\n",
    "    torch.manual_seed(job)\n",
    "\n",
    "    dataloaderA = DataLoader(datasetA, batch_size=25, shuffle=True)\n",
    "    loss_task = CustomLoss_task.CustomLoss_task()\n",
    "\n",
    "    net_i3 = RSNN_i3.RSNN_i3()\n",
    "\n",
    "    optimizer_i3 = torch.optim.Adam(net_i3.parameters(),lr=0.02)\n",
    "\n",
    "    train1.train_model16([job, net_i3, optimizer_i3, dataloaderA, loss_task, \"A\", \"3\", num_epochs, num_timesteps])\n"
   ]
  },
  {
   "cell_type": "code",
   "execution_count": null,
   "id": "40e8fb35-f791-40d5-9322-0ca8c25e57a2",
   "metadata": {},
   "outputs": [],
   "source": []
  }
 ],
 "metadata": {
  "kernelspec": {
   "display_name": "Python (rsnn_env)",
   "language": "python",
   "name": "rsnn_env"
  },
  "language_info": {
   "codemirror_mode": {
    "name": "ipython",
    "version": 3
   },
   "file_extension": ".py",
   "mimetype": "text/x-python",
   "name": "python",
   "nbconvert_exporter": "python",
   "pygments_lexer": "ipython3",
   "version": "3.8.19"
  }
 },
 "nbformat": 4,
 "nbformat_minor": 5
}
