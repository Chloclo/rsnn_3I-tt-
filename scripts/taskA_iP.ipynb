{
 "cells": [
  {
   "cell_type": "code",
   "execution_count": null,
   "id": "d29f797c-ea41-48fc-af44-3b3945cdf1b9",
   "metadata": {},
   "outputs": [],
   "source": [
    "import os\n",
    "import torch\n",
    "from torch.utils.data import Dataset, DataLoader"
   ]
  },
  {
   "cell_type": "code",
   "execution_count": null,
   "id": "4793d5eb",
   "metadata": {},
   "outputs": [],
   "source": [
    "from data.input.Sine_Wave_Dataset import SW_A\n",
    "from models.Custom_Loss import CustomLoss_task\n",
    "from models.rsnn import RSNN_iP\n",
    "from models import train1"
   ]
  },
  {
   "cell_type": "code",
   "execution_count": null,
   "id": "70c05888-4318-47f6-9cc5-4940bf3eaaad",
   "metadata": {},
   "outputs": [
    {
     "name": "stdout",
     "output_type": "stream",
     "text": [
      "0.7492\n",
      "loss: tensor(1176.8484, grad_fn=<MseLossBackward0>)\n",
      "loss: tensor(1224.3350, grad_fn=<MseLossBackward0>)\n",
      "loss: tensor(1389.6824, grad_fn=<MseLossBackward0>)\n",
      "loss: tensor(1234.7902, grad_fn=<MseLossBackward0>)\n",
      "loss: tensor(1211.8353, grad_fn=<MseLossBackward0>)\n",
      "loss: tensor(1560.3972, grad_fn=<MseLossBackward0>)\n",
      "loss: tensor(1493.6516, grad_fn=<MseLossBackward0>)\n",
      "loss: tensor(1500.7294, grad_fn=<MseLossBackward0>)\n",
      "loss: tensor(1276.8083, grad_fn=<MseLossBackward0>)\n"
     ]
    }
   ],
   "source": [
    "'''Sine Wave Task with:\n",
    "Amplitude (20-80), Period=80\n",
    "I: PV\n",
    "'''\n",
    "datasetA = SW_A.SW_A('train_data/train_data_const_period.csv')\n",
    "\n",
    "random_seed = 0\n",
    "\n",
    "num_epochs = 1000\n",
    "num_timesteps = 300\n",
    "\n",
    "for job in range(10,15):\n",
    "    # Set the random seed for Python's random module\n",
    "    torch.manual_seed(job)\n",
    "    \n",
    "    dataloaderA = DataLoader(datasetA, batch_size=25, shuffle=True)\n",
    "    loss_task = CustomLoss_task.CustomLoss_task()\n",
    "\n",
    "    net_iP = RSNN_iP.RSNN_iP()\n",
    "    optimizer_iP = torch.optim.Adam(net_iP.parameters(),lr=0.02)\n",
    "\n",
    "    train1.train_model16([job, net_iP, optimizer_iP,dataloaderA, loss_task, \"A\", \"P\", num_epochs, num_timesteps])\n"
   ]
  },
  {
   "cell_type": "code",
   "execution_count": null,
   "id": "7e65e039-0423-4c72-8a71-d1e654b8642a",
   "metadata": {},
   "outputs": [],
   "source": []
  }
 ],
 "metadata": {
  "kernelspec": {
   "display_name": "Python (rsnn_env)",
   "language": "python",
   "name": "rsnn_env"
  },
  "language_info": {
   "codemirror_mode": {
    "name": "ipython",
    "version": 3
   },
   "file_extension": ".py",
   "mimetype": "text/x-python",
   "name": "python",
   "nbconvert_exporter": "python",
   "pygments_lexer": "ipython3",
   "version": "3.8.19"
  }
 },
 "nbformat": 4,
 "nbformat_minor": 5
}
