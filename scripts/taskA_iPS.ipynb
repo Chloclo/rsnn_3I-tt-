{
 "cells": [
  {
   "cell_type": "code",
   "execution_count": 1,
   "id": "d29f797c-ea41-48fc-af44-3b3945cdf1b9",
   "metadata": {},
   "outputs": [],
   "source": [
    "import os\n",
    "\n",
    "import torch\n",
    "from torch.utils.data import Dataset, DataLoader\n",
    "import torch.nn as nn\n",
    "\n",
    "import snntorch as snn\n",
    "from snntorch import surrogate\n",
    "from snntorch import spikegen\n",
    "from snntorch import functional\n",
    "from snntorch import LIF\n",
    "from snntorch import spikeplot as splt\n",
    "\n",
    "import pandas as pd\n",
    "import numpy as np\n",
    "import matplotlib.pyplot as plt\n",
    "import math\n",
    "from warnings import warn\n",
    "import csv\n",
    "\n",
    "from classes.Sine_Wave_Dataset import SW_A\n",
    "from classes.Custom_Loss import CustomLoss_task\n",
    "from classes import RSNN_iPS_diff_connprob,train1"
   ]
  },
  {
   "cell_type": "code",
   "execution_count": null,
   "id": "70c05888-4318-47f6-9cc5-4940bf3eaaad",
   "metadata": {},
   "outputs": [
    {
     "name": "stdout",
     "output_type": "stream",
     "text": [
      "0.76385\n",
      "loss: tensor(1172.5608, grad_fn=<MseLossBackward0>)\n",
      "loss: tensor(1219.7441, grad_fn=<MseLossBackward0>)\n",
      "loss: tensor(1382.2878, grad_fn=<MseLossBackward0>)\n",
      "loss: tensor(1226.1469, grad_fn=<MseLossBackward0>)\n",
      "loss: tensor(1193.3499, grad_fn=<MseLossBackward0>)\n",
      "loss: tensor(1533.7515, grad_fn=<MseLossBackward0>)\n",
      "loss: tensor(1455.0537, grad_fn=<MseLossBackward0>)\n",
      "loss: tensor(1463.0179, grad_fn=<MseLossBackward0>)\n",
      "loss: tensor(1239.1202, grad_fn=<MseLossBackward0>)\n",
      "loss: tensor(1043.1588, grad_fn=<MseLossBackward0>)\n",
      "loss: tensor(1449.6267, grad_fn=<MseLossBackward0>)\n",
      "loss: tensor(1499.7036, grad_fn=<MseLossBackward0>)\n",
      "loss: tensor(1579.2809, grad_fn=<MseLossBackward0>)\n",
      "loss: tensor(1390.1304, grad_fn=<MseLossBackward0>)\n",
      "loss: tensor(1336.7971, grad_fn=<MseLossBackward0>)\n",
      "loss: tensor(1177.8977, grad_fn=<MseLossBackward0>)\n",
      "loss: tensor(1161.6865, grad_fn=<MseLossBackward0>)\n",
      "loss: tensor(1415.2067, grad_fn=<MseLossBackward0>)\n",
      "loss: tensor(1246.6278, grad_fn=<MseLossBackward0>)\n",
      "loss: tensor(1039.8746, grad_fn=<MseLossBackward0>)\n",
      "loss: tensor(1522.0099, grad_fn=<MseLossBackward0>)\n",
      "loss: tensor(1155.4818, grad_fn=<MseLossBackward0>)\n",
      "loss: tensor(1405.6281, grad_fn=<MseLossBackward0>)\n",
      "loss: tensor(965.1855, grad_fn=<MseLossBackward0>)\n",
      "loss: tensor(1362.1512, grad_fn=<MseLossBackward0>)\n",
      "loss: tensor(999.8459, grad_fn=<MseLossBackward0>)\n",
      "loss: tensor(1217.8132, grad_fn=<MseLossBackward0>)\n",
      "loss: tensor(1026.0450, grad_fn=<MseLossBackward0>)\n",
      "loss: tensor(1110.6223, grad_fn=<MseLossBackward0>)\n",
      "loss: tensor(1284.7317, grad_fn=<MseLossBackward0>)\n",
      "loss: tensor(1303.1191, grad_fn=<MseLossBackward0>)\n",
      "loss: tensor(1079.0682, grad_fn=<MseLossBackward0>)\n",
      "loss: tensor(1007.6866, grad_fn=<MseLossBackward0>)\n",
      "loss: tensor(999.4500, grad_fn=<MseLossBackward0>)\n",
      "loss: tensor(1163.4506, grad_fn=<MseLossBackward0>)\n"
     ]
    }
   ],
   "source": [
    "'''Sine Wave Task with:\n",
    "Amplitude (20-80), Period = 80\n",
    "I: PV, SST\n",
    "'''\n",
    "num_epochs = 1000\n",
    "num_timesteps = 300\n",
    "datasetA = SW_A.SW_A('train_data/train_data_const_period.csv')\n",
    "\n",
    "random_seed = 10\n",
    "\n",
    "for job in range(10,15):\n",
    "    # Set the random seed for Python's random module\n",
    "    torch.manual_seed(job)\n",
    "    \n",
    "    dataloaderA = DataLoader(datasetA, batch_size=25, shuffle=True)\n",
    "    loss_task = CustomLoss_task.CustomLoss_task()\n",
    "\n",
    "    net_iPS = RSNN_iPS_diff_connprob.RSNN_iPS()\n",
    "    optimizer_iPS = torch.optim.Adam(net_iPS.parameters(),lr=0.02)\n",
    "\n",
    "    train1.train_model16([job, net_iPS, optimizer_iPS,dataloaderA, loss_task, \"A\", \"PS\", num_epochs, num_timesteps])\n",
    "    random_seed += 1"
   ]
  },
  {
   "cell_type": "code",
   "execution_count": null,
   "id": "85d8e868-a222-4346-9c36-d5c5a70f0c2d",
   "metadata": {},
   "outputs": [],
   "source": []
  }
 ],
 "metadata": {
  "kernelspec": {
   "display_name": "Python (rsnn_env)",
   "language": "python",
   "name": "rsnn_env"
  },
  "language_info": {
   "codemirror_mode": {
    "name": "ipython",
    "version": 3
   },
   "file_extension": ".py",
   "mimetype": "text/x-python",
   "name": "python",
   "nbconvert_exporter": "python",
   "pygments_lexer": "ipython3",
   "version": "3.8.19"
  }
 },
 "nbformat": 4,
 "nbformat_minor": 5
}
