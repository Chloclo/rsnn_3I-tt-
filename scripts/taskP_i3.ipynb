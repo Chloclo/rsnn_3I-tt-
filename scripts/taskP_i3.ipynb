{
 "cells": [
  {
   "cell_type": "code",
   "execution_count": 2,
   "id": "d29f797c-ea41-48fc-af44-3b3945cdf1b9",
   "metadata": {},
   "outputs": [],
   "source": [
    "import os\n",
    "\n",
    "import torch\n",
    "from torch.utils.data import Dataset, DataLoader\n",
    "import torch.nn as nn\n",
    "\n",
    "import snntorch as snn\n",
    "from snntorch import surrogate\n",
    "from snntorch import spikegen\n",
    "from snntorch import functional\n",
    "from snntorch import LIF\n",
    "from snntorch import spikeplot as splt\n",
    "\n",
    "import pandas as pd\n",
    "import numpy as np\n",
    "import matplotlib.pyplot as plt\n",
    "import math\n",
    "from warnings import warn\n",
    "import csv\n",
    "\n",
    "# SineWave0 creates the dataset with input (Changing Amplitude, Clock-like Input)\n",
    "# Output (Sine wave)\n",
    "from classes.Sine_Wave_Dataset import SW_P\n",
    "from classes.Custom_Loss import CustomLoss_task\n",
    "from classes import RSNN_i3_diff_connprob,train1"
   ]
  },
  {
   "cell_type": "code",
   "execution_count": null,
   "id": "70c05888-4318-47f6-9cc5-4940bf3eaaad",
   "metadata": {},
   "outputs": [
    {
     "name": "stdout",
     "output_type": "stream",
     "text": [
      "0.79795\n",
      "loss: tensor(810.5263, grad_fn=<MseLossBackward0>)\n",
      "loss: tensor(799.5960, grad_fn=<MseLossBackward0>)\n",
      "loss: tensor(804.0663, grad_fn=<MseLossBackward0>)\n",
      "loss: tensor(793.0044, grad_fn=<MseLossBackward0>)\n",
      "loss: tensor(786.0331, grad_fn=<MseLossBackward0>)\n",
      "loss: tensor(787.7543, grad_fn=<MseLossBackward0>)\n",
      "loss: tensor(784.7501, grad_fn=<MseLossBackward0>)\n"
     ]
    }
   ],
   "source": [
    "'''Sine Wave Task with:\n",
    "Amplitude=40, Period (40-100)\n",
    "I: PV, SST, 5HT\n",
    "'''\n",
    "datasetP = SW_P.SW_P('train_data/train_data_const_amp.csv')\n",
    "\n",
    "num_epochs = 1000\n",
    "num_timesteps = 300\n",
    "\n",
    "for job in range(10,15):\n",
    "    # Set the random seed for Python's random module\n",
    "    torch.manual_seed(job)\n",
    "    \n",
    "    dataloaderP = DataLoader(datasetP, batch_size=25, shuffle=True)\n",
    "    loss_task = CustomLoss_task.CustomLoss_task()\n",
    "\n",
    "    net_i3 = RSNN_i3_diff_connprob.RSNN_i3()\n",
    "    optimizer_i3 = torch.optim.Adam(net_i3.parameters(),lr=0.02)\n",
    "\n",
    "    train1.train_model16([job, net_i3, optimizer_i3,dataloaderP, loss_task, \"P\", \"3\", num_epochs, num_timesteps])\n"
   ]
  },
  {
   "cell_type": "code",
   "execution_count": null,
   "id": "f7fc6ad5-0e14-4bdc-a79b-4764262bc6c2",
   "metadata": {},
   "outputs": [],
   "source": []
  }
 ],
 "metadata": {
  "kernelspec": {
   "display_name": "Python (rsnn_env)",
   "language": "python",
   "name": "rsnn_env"
  },
  "language_info": {
   "codemirror_mode": {
    "name": "ipython",
    "version": 3
   },
   "file_extension": ".py",
   "mimetype": "text/x-python",
   "name": "python",
   "nbconvert_exporter": "python",
   "pygments_lexer": "ipython3",
   "version": "3.8.19"
  }
 },
 "nbformat": 4,
 "nbformat_minor": 5
}
