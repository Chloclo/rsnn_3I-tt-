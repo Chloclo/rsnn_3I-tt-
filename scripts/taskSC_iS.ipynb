{
 "cells": [
  {
   "cell_type": "code",
   "execution_count": null,
   "id": "d29f797c-ea41-48fc-af44-3b3945cdf1b9",
   "metadata": {},
   "outputs": [],
   "source": [
    "import os\n",
    "import torch\n",
    "from torch.utils.data import Dataset, DataLoader"
   ]
  },
  {
   "cell_type": "code",
   "execution_count": null,
   "id": "c8195b75",
   "metadata": {},
   "outputs": [],
   "source": [
    "from data.input.Sine_Wave_Dataset import SW_SC\n",
    "from models.Custom_Loss import CustomLoss_task\n",
    "from models.rsnn import RSNN_iS\n",
    "from models import train1"
   ]
  },
  {
   "cell_type": "code",
   "execution_count": null,
   "id": "70c05888-4318-47f6-9cc5-4940bf3eaaad",
   "metadata": {},
   "outputs": [
    {
     "name": "stdout",
     "output_type": "stream",
     "text": [
      "0.75335\n",
      "loss: tensor(1409.1832, grad_fn=<MseLossBackward0>)\n",
      "loss: tensor(1062.1141, grad_fn=<MseLossBackward0>)\n",
      "loss: tensor(1278.5497, grad_fn=<MseLossBackward0>)\n",
      "loss: tensor(1427.2791, grad_fn=<MseLossBackward0>)\n",
      "loss: tensor(1131.8640, grad_fn=<MseLossBackward0>)\n",
      "loss: tensor(1287.1909, grad_fn=<MseLossBackward0>)\n",
      "loss: tensor(1378.3741, grad_fn=<MseLossBackward0>)\n",
      "loss: tensor(1201.0718, grad_fn=<MseLossBackward0>)\n",
      "loss: tensor(1753.0646, grad_fn=<MseLossBackward0>)\n",
      "loss: tensor(1340.9349, grad_fn=<MseLossBackward0>)\n",
      "loss: tensor(1271.6995, grad_fn=<MseLossBackward0>)\n",
      "loss: tensor(1261.1672, grad_fn=<MseLossBackward0>)\n",
      "loss: tensor(1327.8324, grad_fn=<MseLossBackward0>)\n",
      "loss: tensor(1199.0375, grad_fn=<MseLossBackward0>)\n"
     ]
    }
   ],
   "source": [
    "'''Sine Wave Task with:\n",
    "Synchronization Continuation\n",
    "Amplitude=(20-100), Period (40-100)\n",
    "I: SST\n",
    "'''\n",
    "datasetSC = SW_SC.SW_SC('train_data/train_data_sine_hpc.csv')\n",
    "\n",
    "random_seed = 0\n",
    "num_epochs = 1000\n",
    "num_timesteps = 300\n",
    "jobs = [4,5]\n",
    "for job in jobs:\n",
    "    # Set the random seed for Python's random module\n",
    "    torch.manual_seed(job)\n",
    "    dataloaderSC = DataLoader(datasetSC, batch_size=25, shuffle=True)\n",
    "    loss_task = CustomLoss_task.CustomLoss_task()\n",
    "\n",
    "    net_iS = RSNN_iS.RSNN_iS()\n",
    "    optimizer_iS = torch.optim.Adam(net_iS.parameters(),lr=0.02)\n",
    "\n",
    "    train1.train_model16([job, net_iS, optimizer_iS,dataloaderSC, loss_task, \"SC\", \"S\", num_epochs, num_timesteps])\n",
    "    # random_seed += 1"
   ]
  },
  {
   "cell_type": "code",
   "execution_count": null,
   "id": "a7a3b403-4360-4fa3-a572-3438d7cdbac6",
   "metadata": {},
   "outputs": [],
   "source": []
  }
 ],
 "metadata": {
  "kernelspec": {
   "display_name": "Python (rsnn_env)",
   "language": "python",
   "name": "rsnn_env"
  },
  "language_info": {
   "codemirror_mode": {
    "name": "ipython",
    "version": 3
   },
   "file_extension": ".py",
   "mimetype": "text/x-python",
   "name": "python",
   "nbconvert_exporter": "python",
   "pygments_lexer": "ipython3",
   "version": "3.8.19"
  }
 },
 "nbformat": 4,
 "nbformat_minor": 5
}
